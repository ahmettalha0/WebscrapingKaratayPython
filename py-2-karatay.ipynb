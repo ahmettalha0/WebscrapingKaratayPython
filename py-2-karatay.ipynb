{
 "cells": [
  {
   "cell_type": "code",
   "execution_count": 78,
   "metadata": {},
   "outputs": [
    {
     "name": "stdout",
     "output_type": "stream",
     "text": [
      "{'Server': 'nginx', 'Date': 'Sun, 13 Dec 2020 11:02:56 GMT', 'Content-Type': 'text/html', 'Transfer-Encoding': 'chunked', 'Connection': 'keep-alive', 'Vary': 'Accept-Encoding', 'Expires': 'Thu, 01 Jan 1970 00:00:01 GMT', 'Cache-Control': 'no-cache', 'Content-Encoding': 'gzip'}\n"
     ]
    },
    {
     "data": {
      "text/plain": [
       "200"
      ]
     },
     "execution_count": 78,
     "metadata": {},
     "output_type": "execute_result"
    }
   ],
   "source": [
    "import requests\n",
    "# sitenin header bilgilerini gösteren get requesti\n",
    "req = requests.get(\"http://ahmettalha.net\")\n",
    "print(req.headers)\n",
    "req.status_code"
   ]
  },
  {
   "cell_type": "code",
   "execution_count": 8,
   "metadata": {},
   "outputs": [
    {
     "name": "stdout",
     "output_type": "stream",
     "text": [
      "[\n",
      "  {\n",
      "    \"id\": 1,\n",
      "    \"name\": \"Leanne Graham\",\n",
      "    \"username\": \"Bret\",\n",
      "    \"email\": \"Sincere@april.biz\",\n",
      "    \"address\": {\n",
      "      \"street\": \"Kulas Light\",\n",
      "      \"suite\": \"Apt. 556\",\n",
      "      \"city\": \"Gwenborough\",\n",
      "      \"zipcode\": \"92998-3874\",\n",
      "      \"geo\": {\n",
      "        \"lat\": \"-37.3159\",\n",
      "        \"lng\": \"81.1496\"\n",
      "      }\n",
      "    },\n",
      "    \"phone\": \"1-770-736-8031 x56442\",\n",
      "    \"website\": \"hildegard.org\",\n",
      "    \"company\": {\n",
      "      \"name\": \"Romaguera-Crona\",\n",
      "      \"catchPhrase\": \"Multi-layered client-server neural-net\",\n",
      "      \"bs\": \"harness real-time e-markets\"\n",
      "    }\n",
      "  },\n",
      "  {\n",
      "    \"id\": 2,\n",
      "    \"name\": \"Ervin Howell\",\n",
      "    \"username\": \"Antonette\",\n",
      "    \"email\": \"Shanna@melissa.tv\",\n",
      "    \"address\": {\n",
      "      \"street\": \"Victor Plains\",\n",
      "      \"suite\": \"Suite 879\",\n",
      "      \"city\": \"Wisokyburgh\",\n",
      "      \"zipcode\": \"90566-7771\",\n",
      "      \"geo\": {\n",
      "        \"lat\": \"-43.9509\",\n",
      "        \"lng\": \"-34.4618\"\n",
      "      }\n",
      "    },\n",
      "    \"phone\": \"010-692-6593 x09125\",\n",
      "    \"website\": \"anastasia.net\",\n",
      "    \"company\": {\n",
      "      \"name\": \"Deckow-Crist\",\n",
      "      \"catchPhrase\": \"Proactive didactic contingency\",\n",
      "      \"bs\": \"synergize scalable supply-chains\"\n",
      "    }\n",
      "  },\n",
      "  {\n",
      "    \"id\": 3,\n",
      "    \"name\": \"Clementine Bauch\",\n",
      "    \"username\": \"Samantha\",\n",
      "    \"email\": \"Nathan@yesenia.net\",\n",
      "    \"address\": {\n",
      "      \"street\": \"Douglas Extension\",\n",
      "      \"suite\": \"Suite 847\",\n",
      "      \"city\": \"McKenziehaven\",\n",
      "      \"zipcode\": \"59590-4157\",\n",
      "      \"geo\": {\n",
      "        \"lat\": \"-68.6102\",\n",
      "        \"lng\": \"-47.0653\"\n",
      "      }\n",
      "    },\n",
      "    \"phone\": \"1-463-123-4447\",\n",
      "    \"website\": \"ramiro.info\",\n",
      "    \"company\": {\n",
      "      \"name\": \"Romaguera-Jacobson\",\n",
      "      \"catchPhrase\": \"Face to face bifurcated interface\",\n",
      "      \"bs\": \"e-enable strategic applications\"\n",
      "    }\n",
      "  },\n",
      "  {\n",
      "    \"id\": 4,\n",
      "    \"name\": \"Patricia Lebsack\",\n",
      "    \"username\": \"Karianne\",\n",
      "    \"email\": \"Julianne.OConner@kory.org\",\n",
      "    \"address\": {\n",
      "      \"street\": \"Hoeger Mall\",\n",
      "      \"suite\": \"Apt. 692\",\n",
      "      \"city\": \"South Elvis\",\n",
      "      \"zipcode\": \"53919-4257\",\n",
      "      \"geo\": {\n",
      "        \"lat\": \"29.4572\",\n",
      "        \"lng\": \"-164.2990\"\n",
      "      }\n",
      "    },\n",
      "    \"phone\": \"493-170-9623 x156\",\n",
      "    \"website\": \"kale.biz\",\n",
      "    \"company\": {\n",
      "      \"name\": \"Robel-Corkery\",\n",
      "      \"catchPhrase\": \"Multi-tiered zero tolerance productivity\",\n",
      "      \"bs\": \"transition cutting-edge web services\"\n",
      "    }\n",
      "  },\n",
      "  {\n",
      "    \"id\": 5,\n",
      "    \"name\": \"Chelsey Dietrich\",\n",
      "    \"username\": \"Kamren\",\n",
      "    \"email\": \"Lucio_Hettinger@annie.ca\",\n",
      "    \"address\": {\n",
      "      \"street\": \"Skiles Walks\",\n",
      "      \"suite\": \"Suite 351\",\n",
      "      \"city\": \"Roscoeview\",\n",
      "      \"zipcode\": \"33263\",\n",
      "      \"geo\": {\n",
      "        \"lat\": \"-31.8129\",\n",
      "        \"lng\": \"62.5342\"\n",
      "      }\n",
      "    },\n",
      "    \"phone\": \"(254)954-1289\",\n",
      "    \"website\": \"demarco.info\",\n",
      "    \"company\": {\n",
      "      \"name\": \"Keebler LLC\",\n",
      "      \"catchPhrase\": \"User-centric fault-tolerant solution\",\n",
      "      \"bs\": \"revolutionize end-to-end systems\"\n",
      "    }\n",
      "  },\n",
      "  {\n",
      "    \"id\": 6,\n",
      "    \"name\": \"Mrs. Dennis Schulist\",\n",
      "    \"username\": \"Leopoldo_Corkery\",\n",
      "    \"email\": \"Karley_Dach@jasper.info\",\n",
      "    \"address\": {\n",
      "      \"street\": \"Norberto Crossing\",\n",
      "      \"suite\": \"Apt. 950\",\n",
      "      \"city\": \"South Christy\",\n",
      "      \"zipcode\": \"23505-1337\",\n",
      "      \"geo\": {\n",
      "        \"lat\": \"-71.4197\",\n",
      "        \"lng\": \"71.7478\"\n",
      "      }\n",
      "    },\n",
      "    \"phone\": \"1-477-935-8478 x6430\",\n",
      "    \"website\": \"ola.org\",\n",
      "    \"company\": {\n",
      "      \"name\": \"Considine-Lockman\",\n",
      "      \"catchPhrase\": \"Synchronised bottom-line interface\",\n",
      "      \"bs\": \"e-enable innovative applications\"\n",
      "    }\n",
      "  },\n",
      "  {\n",
      "    \"id\": 7,\n",
      "    \"name\": \"Kurtis Weissnat\",\n",
      "    \"username\": \"Elwyn.Skiles\",\n",
      "    \"email\": \"Telly.Hoeger@billy.biz\",\n",
      "    \"address\": {\n",
      "      \"street\": \"Rex Trail\",\n",
      "      \"suite\": \"Suite 280\",\n",
      "      \"city\": \"Howemouth\",\n",
      "      \"zipcode\": \"58804-1099\",\n",
      "      \"geo\": {\n",
      "        \"lat\": \"24.8918\",\n",
      "        \"lng\": \"21.8984\"\n",
      "      }\n",
      "    },\n",
      "    \"phone\": \"210.067.6132\",\n",
      "    \"website\": \"elvis.io\",\n",
      "    \"company\": {\n",
      "      \"name\": \"Johns Group\",\n",
      "      \"catchPhrase\": \"Configurable multimedia task-force\",\n",
      "      \"bs\": \"generate enterprise e-tailers\"\n",
      "    }\n",
      "  },\n",
      "  {\n",
      "    \"id\": 8,\n",
      "    \"name\": \"Nicholas Runolfsdottir V\",\n",
      "    \"username\": \"Maxime_Nienow\",\n",
      "    \"email\": \"Sherwood@rosamond.me\",\n",
      "    \"address\": {\n",
      "      \"street\": \"Ellsworth Summit\",\n",
      "      \"suite\": \"Suite 729\",\n",
      "      \"city\": \"Aliyaview\",\n",
      "      \"zipcode\": \"45169\",\n",
      "      \"geo\": {\n",
      "        \"lat\": \"-14.3990\",\n",
      "        \"lng\": \"-120.7677\"\n",
      "      }\n",
      "    },\n",
      "    \"phone\": \"586.493.6943 x140\",\n",
      "    \"website\": \"jacynthe.com\",\n",
      "    \"company\": {\n",
      "      \"name\": \"Abernathy Group\",\n",
      "      \"catchPhrase\": \"Implemented secondary concept\",\n",
      "      \"bs\": \"e-enable extensible e-tailers\"\n",
      "    }\n",
      "  },\n",
      "  {\n",
      "    \"id\": 9,\n",
      "    \"name\": \"Glenna Reichert\",\n",
      "    \"username\": \"Delphine\",\n",
      "    \"email\": \"Chaim_McDermott@dana.io\",\n",
      "    \"address\": {\n",
      "      \"street\": \"Dayna Park\",\n",
      "      \"suite\": \"Suite 449\",\n",
      "      \"city\": \"Bartholomebury\",\n",
      "      \"zipcode\": \"76495-3109\",\n",
      "      \"geo\": {\n",
      "        \"lat\": \"24.6463\",\n",
      "        \"lng\": \"-168.8889\"\n",
      "      }\n",
      "    },\n",
      "    \"phone\": \"(775)976-6794 x41206\",\n",
      "    \"website\": \"conrad.com\",\n",
      "    \"company\": {\n",
      "      \"name\": \"Yost and Sons\",\n",
      "      \"catchPhrase\": \"Switchable contextually-based project\",\n",
      "      \"bs\": \"aggregate real-time technologies\"\n",
      "    }\n",
      "  },\n",
      "  {\n",
      "    \"id\": 10,\n",
      "    \"name\": \"Clementina DuBuque\",\n",
      "    \"username\": \"Moriah.Stanton\",\n",
      "    \"email\": \"Rey.Padberg@karina.biz\",\n",
      "    \"address\": {\n",
      "      \"street\": \"Kattie Turnpike\",\n",
      "      \"suite\": \"Suite 198\",\n",
      "      \"city\": \"Lebsackbury\",\n",
      "      \"zipcode\": \"31428-2261\",\n",
      "      \"geo\": {\n",
      "        \"lat\": \"-38.2386\",\n",
      "        \"lng\": \"57.2232\"\n",
      "      }\n",
      "    },\n",
      "    \"phone\": \"024-648-3804\",\n",
      "    \"website\": \"ambrose.net\",\n",
      "    \"company\": {\n",
      "      \"name\": \"Hoeger LLC\",\n",
      "      \"catchPhrase\": \"Centralized empowering task-force\",\n",
      "      \"bs\": \"target end-to-end models\"\n",
      "    }\n",
      "  }\n",
      "]\n"
     ]
    }
   ],
   "source": [
    "# json içeriği üzerinde get isteği\n",
    "req_json = requests.get(\"https://jsonplaceholder.typicode.com/users\")\n",
    "print(req_json.text)"
   ]
  },
  {
   "cell_type": "code",
   "execution_count": 10,
   "metadata": {},
   "outputs": [
    {
     "data": {
      "text/plain": [
       "'http://ahmettalha.net/?lesson=python&subject=requests+module'"
      ]
     },
     "execution_count": 10,
     "metadata": {},
     "output_type": "execute_result"
    }
   ],
   "source": [
    "# params\n",
    "req_params = requests.get(\"http://ahmettalha.net\", params={\"lesson\":\"python\", \"subject\":\"requests module\"})\n",
    "req_params.url"
   ]
  },
  {
   "cell_type": "code",
   "execution_count": 17,
   "metadata": {},
   "outputs": [
    {
     "name": "stdout",
     "output_type": "stream",
     "text": [
      "200\n",
      "{\n",
      "  \"args\": {}, \n",
      "  \"data\": \"\", \n",
      "  \"files\": {}, \n",
      "  \"form\": {\n",
      "    \"lesson\": \"python\", \n",
      "    \"subject\": \"requests module\"\n",
      "  }, \n",
      "  \"headers\": {\n",
      "    \"Accept\": \"*/*\", \n",
      "    \"Accept-Encoding\": \"gzip, deflate\", \n",
      "    \"Content-Length\": \"37\", \n",
      "    \"Content-Type\": \"application/x-www-form-urlencoded\", \n",
      "    \"Host\": \"httpbin.org\", \n",
      "    \"User-Agent\": \"python-requests/2.24.0\", \n",
      "    \"X-Amzn-Trace-Id\": \"Root=1-5fd5d3a1-0a6ab02d42d7a9b5300ffb97\"\n",
      "  }, \n",
      "  \"json\": null, \n",
      "  \"origin\": \"46.196.209.65\", \n",
      "  \"url\": \"https://httpbin.org/post\"\n",
      "}\n",
      "\n",
      "{'lesson': 'python', 'subject': 'requests module'}\n"
     ]
    }
   ],
   "source": [
    "# post işlemi, gönderilen verinin json içeriğinden seçilip ekranda gösterilmesi\n",
    "req_post = requests.post(\"https://httpbin.org/post\", data = {\"lesson\":\"python\", \"subject\":\"requests module\"})\n",
    "print(req_post.status_code)\n",
    "print(req_post.text)\n",
    "print(req_post.json()[\"form\"])"
   ]
  },
  {
   "cell_type": "code",
   "execution_count": 18,
   "metadata": {},
   "outputs": [
    {
     "name": "stdout",
     "output_type": "stream",
     "text": [
      "{\n",
      "  \"args\": {}, \n",
      "  \"data\": \"\", \n",
      "  \"files\": {}, \n",
      "  \"form\": {\n",
      "    \"lesson\": \"python\", \n",
      "    \"subject\": \"requests module\"\n",
      "  }, \n",
      "  \"headers\": {\n",
      "    \"Accept\": \"*/*\", \n",
      "    \"Accept-Encoding\": \"gzip, deflate\", \n",
      "    \"Content-Length\": \"37\", \n",
      "    \"Content-Type\": \"application/x-www-form-urlencoded\", \n",
      "    \"Host\": \"httpbin.org\", \n",
      "    \"User-Agent\": \"python-requests/2.24.0\", \n",
      "    \"X-Amzn-Trace-Id\": \"Root=1-5fd5ded5-024bd35877401eb014dbfb8d\"\n",
      "  }, \n",
      "  \"json\": null, \n",
      "  \"origin\": \"46.196.209.65\", \n",
      "  \"url\": \"https://httpbin.org/put\"\n",
      "}\n",
      "\n"
     ]
    }
   ],
   "source": [
    "# put işlemi için post işlemine benzer bir örnek\n",
    "req_put = requests.put(\"https://httpbin.org/put\", data = {\"lesson\":\"python\", \"subject\":\"requests module\"})\n",
    "print(req_put.text)"
   ]
  },
  {
   "cell_type": "code",
   "execution_count": 20,
   "metadata": {},
   "outputs": [
    {
     "name": "stdout",
     "output_type": "stream",
     "text": [
      "{\n",
      "  \"args\": {}, \n",
      "  \"data\": \"\", \n",
      "  \"files\": {}, \n",
      "  \"form\": {\n",
      "    \"user_name\": \"Talha\"\n",
      "  }, \n",
      "  \"headers\": {\n",
      "    \"Accept\": \"*/*\", \n",
      "    \"Accept-Encoding\": \"gzip, deflate\", \n",
      "    \"Content-Length\": \"15\", \n",
      "    \"Content-Type\": \"application/x-www-form-urlencoded\", \n",
      "    \"Host\": \"httpbin.org\", \n",
      "    \"User-Agent\": \"python-requests/2.24.0\", \n",
      "    \"X-Amzn-Trace-Id\": \"Root=1-5fd5e07b-48cbfc800b44ec630a3f5890\"\n",
      "  }, \n",
      "  \"json\": null, \n",
      "  \"origin\": \"46.196.209.65\", \n",
      "  \"url\": \"https://httpbin.org/delete\"\n",
      "}\n",
      "\n"
     ]
    }
   ],
   "source": [
    "# delete işlemi\n",
    "req_delete = requests.delete(\"https://httpbin.org/delete\", data = {\"user_name\":\"Talha\"})\n",
    "print(req_delete.text)"
   ]
  },
  {
   "cell_type": "code",
   "execution_count": 29,
   "metadata": {},
   "outputs": [
    {
     "data": {
      "text/plain": [
       "<Response [200]>"
      ]
     },
     "execution_count": 29,
     "metadata": {},
     "output_type": "execute_result"
    }
   ],
   "source": [
    "# authentication konusunda requests modülü\n",
    "from requests.auth import HTTPDigestAuth \n",
    "url = 'https://httpbin.org/digest-auth/auth/talha/talha123'\n",
    "requests.get(url, auth=HTTPDigestAuth('talha', 'talha123'))"
   ]
  },
  {
   "cell_type": "code",
   "execution_count": 74,
   "metadata": {},
   "outputs": [
    {
     "name": "stdout",
     "output_type": "stream",
     "text": [
      "{\n",
      "  \"cookies\": {\n",
      "    \"sessioncookie\": \"123456789\"\n",
      "  }\n",
      "}\n",
      "\n",
      "{'User-Agent': 'python-requests/2.24.0', 'Accept-Encoding': 'gzip, deflate', 'Accept': '*/*', 'Connection': 'keep-alive', 'x-test': 'true'}\n",
      "('talha', 'talha123')\n"
     ]
    },
    {
     "ename": "AttributeError",
     "evalue": "'Session' object has no attribute 'links'",
     "output_type": "error",
     "traceback": [
      "\u001b[1;31m---------------------------------------------------------------------------\u001b[0m",
      "\u001b[1;31mAttributeError\u001b[0m                            Traceback (most recent call last)",
      "\u001b[1;32m<ipython-input-74-8f36f4796581>\u001b[0m in \u001b[0;36m<module>\u001b[1;34m\u001b[0m\n\u001b[0;32m     10\u001b[0m \u001b[0mprint\u001b[0m\u001b[1;33m(\u001b[0m\u001b[0ms\u001b[0m\u001b[1;33m.\u001b[0m\u001b[0mheaders\u001b[0m\u001b[1;33m)\u001b[0m\u001b[1;33m\u001b[0m\u001b[1;33m\u001b[0m\u001b[0m\n\u001b[0;32m     11\u001b[0m \u001b[0mprint\u001b[0m\u001b[1;33m(\u001b[0m\u001b[0ms\u001b[0m\u001b[1;33m.\u001b[0m\u001b[0mauth\u001b[0m\u001b[1;33m)\u001b[0m\u001b[1;33m\u001b[0m\u001b[1;33m\u001b[0m\u001b[0m\n\u001b[1;32m---> 12\u001b[1;33m \u001b[0mprint\u001b[0m\u001b[1;33m(\u001b[0m\u001b[0ms\u001b[0m\u001b[1;33m.\u001b[0m\u001b[0mlinks\u001b[0m\u001b[1;33m)\u001b[0m\u001b[1;33m\u001b[0m\u001b[1;33m\u001b[0m\u001b[0m\n\u001b[0m",
      "\u001b[1;31mAttributeError\u001b[0m: 'Session' object has no attribute 'links'"
     ]
    }
   ],
   "source": [
    "# session işlemi\n",
    "s = requests.Session()\n",
    "s.get('http://httpbin.org/cookies/set/sessioncookie/123456789')\n",
    "r = s.get('http://httpbin.org/cookies')\n",
    "print(r.text)\n",
    "s = requests.Session()\n",
    "s.auth = ('talha', 'talha123')\n",
    "s.headers.update({'x-test': 'true'})\n",
    "print(s.headers)\n",
    "print(s.auth)"
   ]
  },
  {
   "cell_type": "code",
   "execution_count": 75,
   "metadata": {},
   "outputs": [
    {
     "data": {
      "text/plain": [
       "{'User-Agent': 'python-requests/2.24.0', 'Accept-Encoding': 'gzip, deflate', 'Accept': '*/*', 'Connection': 'keep-alive'}"
      ]
     },
     "execution_count": 75,
     "metadata": {},
     "output_type": "execute_result"
    }
   ],
   "source": [
    "req_request_object = requests.get('https://en.wikipedia.org/wiki/Monty_Python')\n",
    "req_request_object.request.headers"
   ]
  }
 ],
 "metadata": {
  "kernelspec": {
   "display_name": "Python 3",
   "language": "python",
   "name": "python3"
  },
  "language_info": {
   "codemirror_mode": {
    "name": "ipython",
    "version": 3
   },
   "file_extension": ".py",
   "mimetype": "text/x-python",
   "name": "python",
   "nbconvert_exporter": "python",
   "pygments_lexer": "ipython3",
   "version": "3.8.3"
  }
 },
 "nbformat": 4,
 "nbformat_minor": 4
}
